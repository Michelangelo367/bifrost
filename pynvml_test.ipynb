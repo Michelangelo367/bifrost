{
 "cells": [
  {
   "cell_type": "code",
   "execution_count": 1,
   "metadata": {},
   "outputs": [],
   "source": [
    "import pynvml"
   ]
  },
  {
   "cell_type": "code",
   "execution_count": 2,
   "metadata": {},
   "outputs": [],
   "source": [
    "pynvml.nvmlInit()"
   ]
  },
  {
   "cell_type": "code",
   "execution_count": 3,
   "metadata": {},
   "outputs": [
    {
     "data": {
      "text/plain": [
       "b'384.130'"
      ]
     },
     "execution_count": 3,
     "metadata": {},
     "output_type": "execute_result"
    }
   ],
   "source": [
    "# 驱动版本\n",
    "driver_version = pynvml.nvmlSystemGetDriverVersion()\n",
    "driver_version"
   ]
  },
  {
   "cell_type": "code",
   "execution_count": 4,
   "metadata": {},
   "outputs": [],
   "source": [
    "# 显卡数\n",
    "device_count = pynvml.nvmlDeviceGetCount()"
   ]
  },
  {
   "cell_type": "code",
   "execution_count": 5,
   "metadata": {},
   "outputs": [
    {
     "data": {
      "text/plain": [
       "8"
      ]
     },
     "execution_count": 5,
     "metadata": {},
     "output_type": "execute_result"
    }
   ],
   "source": [
    "device_count"
   ]
  },
  {
   "cell_type": "code",
   "execution_count": 6,
   "metadata": {},
   "outputs": [
    {
     "name": "stdout",
     "output_type": "stream",
     "text": [
      "Device 0: b'TITAN Xp'\n",
      "Device 1: b'TITAN Xp'\n",
      "Device 2: b'TITAN Xp'\n",
      "Device 3: b'TITAN Xp'\n",
      "Device 4: b'TITAN Xp'\n",
      "Device 5: b'TITAN Xp'\n",
      "Device 6: b'TITAN Xp'\n",
      "Device 7: b'TITAN Xp'\n"
     ]
    }
   ],
   "source": [
    "# 获取显卡名字\n",
    "for i in range(device_count):\n",
    "    handle = pynvml.nvmlDeviceGetHandleByIndex(i)\n",
    "    print(f\"Device {i}: {pynvml.nvmlDeviceGetName(handle)}\")"
   ]
  },
  {
   "cell_type": "code",
   "execution_count": 17,
   "metadata": {},
   "outputs": [
    {
     "name": "stdout",
     "output_type": "stream",
     "text": [
      "Device 0: \n",
      "              free 490.9375 MB, \n",
      "              used 11699.0 MB, \n",
      "              total 12189.9375 MB, \n",
      "              temperature 70\n",
      "              Fan speed 43,\n",
      "              Power ststus 2\n",
      "Device 1: \n",
      "              free 1468.9375 MB, \n",
      "              used 10721.0 MB, \n",
      "              total 12189.9375 MB, \n",
      "              temperature 76\n",
      "              Fan speed 47,\n",
      "              Power ststus 2\n",
      "Device 2: \n",
      "              free 1468.9375 MB, \n",
      "              used 10721.0 MB, \n",
      "              total 12189.9375 MB, \n",
      "              temperature 78\n",
      "              Fan speed 49,\n",
      "              Power ststus 2\n",
      "Device 3: \n",
      "              free 1468.9375 MB, \n",
      "              used 10721.0 MB, \n",
      "              total 12189.9375 MB, \n",
      "              temperature 83\n",
      "              Fan speed 53,\n",
      "              Power ststus 2\n",
      "Device 4: \n",
      "              free 11498.9375 MB, \n",
      "              used 691.0 MB, \n",
      "              total 12189.9375 MB, \n",
      "              temperature 33\n",
      "              Fan speed 23,\n",
      "              Power ststus 8\n",
      "Device 5: \n",
      "              free 556.9375 MB, \n",
      "              used 11633.0 MB, \n",
      "              total 12189.9375 MB, \n",
      "              temperature 84\n",
      "              Fan speed 55,\n",
      "              Power ststus 2\n",
      "Device 6: \n",
      "              free 12189.9375 MB, \n",
      "              used 0.0 MB, \n",
      "              total 12189.9375 MB, \n",
      "              temperature 32\n",
      "              Fan speed 23,\n",
      "              Power ststus 8\n",
      "Device 7: \n",
      "              free 12189.9375 MB, \n",
      "              used 0.0 MB, \n",
      "              total 12189.9375 MB, \n",
      "              temperature 32\n",
      "              Fan speed 23,\n",
      "              Power ststus 8\n"
     ]
    }
   ],
   "source": [
    "# 获取显卡信息\n",
    "for i in range(device_count):\n",
    "    handle = pynvml.nvmlDeviceGetHandleByIndex(i)\n",
    "    info = pynvml.nvmlDeviceGetMemoryInfo(handle)\n",
    "    print(f\"\"\"Device {i}: \n",
    "              free {info.free / (1024. ** 2)} MB, \n",
    "              used {info.used / (1024. ** 2)} MB, \n",
    "              total {info.total / (1024. ** 2)} MB, \n",
    "              temperature {pynvml.nvmlDeviceGetTemperature(handle, 0)}\n",
    "              Fan speed {pynvml.nvmlDeviceGetFanSpeed(handle)},\n",
    "              Power ststus {pynvml.nvmlDeviceGetPowerState(handle)}\"\"\")"
   ]
  },
  {
   "cell_type": "code",
   "execution_count": 18,
   "metadata": {},
   "outputs": [],
   "source": [
    "# 关闭\n",
    "pynvml.nvmlShutdown()"
   ]
  },
  {
   "cell_type": "code",
   "execution_count": null,
   "metadata": {},
   "outputs": [],
   "source": []
  }
 ],
 "metadata": {
  "kernelspec": {
   "display_name": "Python 3",
   "language": "python",
   "name": "python3"
  },
  "language_info": {
   "codemirror_mode": {
    "name": "ipython",
    "version": 3
   },
   "file_extension": ".py",
   "mimetype": "text/x-python",
   "name": "python",
   "nbconvert_exporter": "python",
   "pygments_lexer": "ipython3",
   "version": "3.6.8"
  }
 },
 "nbformat": 4,
 "nbformat_minor": 2
}
